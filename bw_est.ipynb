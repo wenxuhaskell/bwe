{
  "nbformat": 4,
  "nbformat_minor": 0,
  "metadata": {
    "colab": {
      "provenance": []
    },
    "kernelspec": {
      "name": "python3",
      "display_name": "Python 3"
    },
    "language_info": {
      "name": "python"
    },
    "widgets": {
      "application/vnd.jupyter.widget-state+json": {
        "c95822b873ad4dd3bb5b9cff3ab4bfac": {
          "model_module": "@jupyter-widgets/controls",
          "model_name": "HBoxModel",
          "model_module_version": "1.5.0",
          "state": {
            "_dom_classes": [],
            "_model_module": "@jupyter-widgets/controls",
            "_model_module_version": "1.5.0",
            "_model_name": "HBoxModel",
            "_view_count": null,
            "_view_module": "@jupyter-widgets/controls",
            "_view_module_version": "1.5.0",
            "_view_name": "HBoxView",
            "box_style": "",
            "children": [
              "IPY_MODEL_ce3f07ad7d35428fbafa5077cc93fad9",
              "IPY_MODEL_1cdcfa138e6d4bfe85670dee5ee54e4f",
              "IPY_MODEL_2a061854069a41999f4f1faba89e67e5"
            ],
            "layout": "IPY_MODEL_9de378b966fb4092aae54cd614c5a397"
          }
        },
        "ce3f07ad7d35428fbafa5077cc93fad9": {
          "model_module": "@jupyter-widgets/controls",
          "model_name": "HTMLModel",
          "model_module_version": "1.5.0",
          "state": {
            "_dom_classes": [],
            "_model_module": "@jupyter-widgets/controls",
            "_model_module_version": "1.5.0",
            "_model_name": "HTMLModel",
            "_view_count": null,
            "_view_module": "@jupyter-widgets/controls",
            "_view_module_version": "1.5.0",
            "_view_name": "HTMLView",
            "description": "",
            "description_tooltip": null,
            "layout": "IPY_MODEL_33cb255f4ddc4d7b84f298868812329e",
            "placeholder": "​",
            "style": "IPY_MODEL_bdb9ce5298d345e08fbef46766a810f2",
            "value": "Epoch 1/10:   0%"
          }
        },
        "1cdcfa138e6d4bfe85670dee5ee54e4f": {
          "model_module": "@jupyter-widgets/controls",
          "model_name": "FloatProgressModel",
          "model_module_version": "1.5.0",
          "state": {
            "_dom_classes": [],
            "_model_module": "@jupyter-widgets/controls",
            "_model_module_version": "1.5.0",
            "_model_name": "FloatProgressModel",
            "_view_count": null,
            "_view_module": "@jupyter-widgets/controls",
            "_view_module_version": "1.5.0",
            "_view_name": "ProgressView",
            "bar_style": "",
            "description": "",
            "description_tooltip": null,
            "layout": "IPY_MODEL_fc784f8710cc4d14923f2de4bdb42d2d",
            "max": 1000,
            "min": 0,
            "orientation": "horizontal",
            "style": "IPY_MODEL_97819d52c33c4bf986ce8bc56c6e3582",
            "value": 1
          }
        },
        "2a061854069a41999f4f1faba89e67e5": {
          "model_module": "@jupyter-widgets/controls",
          "model_name": "HTMLModel",
          "model_module_version": "1.5.0",
          "state": {
            "_dom_classes": [],
            "_model_module": "@jupyter-widgets/controls",
            "_model_module_version": "1.5.0",
            "_model_name": "HTMLModel",
            "_view_count": null,
            "_view_module": "@jupyter-widgets/controls",
            "_view_module_version": "1.5.0",
            "_view_name": "HTMLView",
            "description": "",
            "description_tooltip": null,
            "layout": "IPY_MODEL_63bde608cc1d4f48bda065057170540f",
            "placeholder": "​",
            "style": "IPY_MODEL_33b0c6f9058944afac25a61c1f300c3d",
            "value": " 1/1000 [00:46&lt;12:50:32, 46.28s/it, loss=16.7, td_loss=0.708, conservative_loss=15.9]"
          }
        },
        "9de378b966fb4092aae54cd614c5a397": {
          "model_module": "@jupyter-widgets/base",
          "model_name": "LayoutModel",
          "model_module_version": "1.2.0",
          "state": {
            "_model_module": "@jupyter-widgets/base",
            "_model_module_version": "1.2.0",
            "_model_name": "LayoutModel",
            "_view_count": null,
            "_view_module": "@jupyter-widgets/base",
            "_view_module_version": "1.2.0",
            "_view_name": "LayoutView",
            "align_content": null,
            "align_items": null,
            "align_self": null,
            "border": null,
            "bottom": null,
            "display": null,
            "flex": null,
            "flex_flow": null,
            "grid_area": null,
            "grid_auto_columns": null,
            "grid_auto_flow": null,
            "grid_auto_rows": null,
            "grid_column": null,
            "grid_gap": null,
            "grid_row": null,
            "grid_template_areas": null,
            "grid_template_columns": null,
            "grid_template_rows": null,
            "height": null,
            "justify_content": null,
            "justify_items": null,
            "left": null,
            "margin": null,
            "max_height": null,
            "max_width": null,
            "min_height": null,
            "min_width": null,
            "object_fit": null,
            "object_position": null,
            "order": null,
            "overflow": null,
            "overflow_x": null,
            "overflow_y": null,
            "padding": null,
            "right": null,
            "top": null,
            "visibility": null,
            "width": null
          }
        },
        "33cb255f4ddc4d7b84f298868812329e": {
          "model_module": "@jupyter-widgets/base",
          "model_name": "LayoutModel",
          "model_module_version": "1.2.0",
          "state": {
            "_model_module": "@jupyter-widgets/base",
            "_model_module_version": "1.2.0",
            "_model_name": "LayoutModel",
            "_view_count": null,
            "_view_module": "@jupyter-widgets/base",
            "_view_module_version": "1.2.0",
            "_view_name": "LayoutView",
            "align_content": null,
            "align_items": null,
            "align_self": null,
            "border": null,
            "bottom": null,
            "display": null,
            "flex": null,
            "flex_flow": null,
            "grid_area": null,
            "grid_auto_columns": null,
            "grid_auto_flow": null,
            "grid_auto_rows": null,
            "grid_column": null,
            "grid_gap": null,
            "grid_row": null,
            "grid_template_areas": null,
            "grid_template_columns": null,
            "grid_template_rows": null,
            "height": null,
            "justify_content": null,
            "justify_items": null,
            "left": null,
            "margin": null,
            "max_height": null,
            "max_width": null,
            "min_height": null,
            "min_width": null,
            "object_fit": null,
            "object_position": null,
            "order": null,
            "overflow": null,
            "overflow_x": null,
            "overflow_y": null,
            "padding": null,
            "right": null,
            "top": null,
            "visibility": null,
            "width": null
          }
        },
        "bdb9ce5298d345e08fbef46766a810f2": {
          "model_module": "@jupyter-widgets/controls",
          "model_name": "DescriptionStyleModel",
          "model_module_version": "1.5.0",
          "state": {
            "_model_module": "@jupyter-widgets/controls",
            "_model_module_version": "1.5.0",
            "_model_name": "DescriptionStyleModel",
            "_view_count": null,
            "_view_module": "@jupyter-widgets/base",
            "_view_module_version": "1.2.0",
            "_view_name": "StyleView",
            "description_width": ""
          }
        },
        "fc784f8710cc4d14923f2de4bdb42d2d": {
          "model_module": "@jupyter-widgets/base",
          "model_name": "LayoutModel",
          "model_module_version": "1.2.0",
          "state": {
            "_model_module": "@jupyter-widgets/base",
            "_model_module_version": "1.2.0",
            "_model_name": "LayoutModel",
            "_view_count": null,
            "_view_module": "@jupyter-widgets/base",
            "_view_module_version": "1.2.0",
            "_view_name": "LayoutView",
            "align_content": null,
            "align_items": null,
            "align_self": null,
            "border": null,
            "bottom": null,
            "display": null,
            "flex": null,
            "flex_flow": null,
            "grid_area": null,
            "grid_auto_columns": null,
            "grid_auto_flow": null,
            "grid_auto_rows": null,
            "grid_column": null,
            "grid_gap": null,
            "grid_row": null,
            "grid_template_areas": null,
            "grid_template_columns": null,
            "grid_template_rows": null,
            "height": null,
            "justify_content": null,
            "justify_items": null,
            "left": null,
            "margin": null,
            "max_height": null,
            "max_width": null,
            "min_height": null,
            "min_width": null,
            "object_fit": null,
            "object_position": null,
            "order": null,
            "overflow": null,
            "overflow_x": null,
            "overflow_y": null,
            "padding": null,
            "right": null,
            "top": null,
            "visibility": null,
            "width": null
          }
        },
        "97819d52c33c4bf986ce8bc56c6e3582": {
          "model_module": "@jupyter-widgets/controls",
          "model_name": "ProgressStyleModel",
          "model_module_version": "1.5.0",
          "state": {
            "_model_module": "@jupyter-widgets/controls",
            "_model_module_version": "1.5.0",
            "_model_name": "ProgressStyleModel",
            "_view_count": null,
            "_view_module": "@jupyter-widgets/base",
            "_view_module_version": "1.2.0",
            "_view_name": "StyleView",
            "bar_color": null,
            "description_width": ""
          }
        },
        "63bde608cc1d4f48bda065057170540f": {
          "model_module": "@jupyter-widgets/base",
          "model_name": "LayoutModel",
          "model_module_version": "1.2.0",
          "state": {
            "_model_module": "@jupyter-widgets/base",
            "_model_module_version": "1.2.0",
            "_model_name": "LayoutModel",
            "_view_count": null,
            "_view_module": "@jupyter-widgets/base",
            "_view_module_version": "1.2.0",
            "_view_name": "LayoutView",
            "align_content": null,
            "align_items": null,
            "align_self": null,
            "border": null,
            "bottom": null,
            "display": null,
            "flex": null,
            "flex_flow": null,
            "grid_area": null,
            "grid_auto_columns": null,
            "grid_auto_flow": null,
            "grid_auto_rows": null,
            "grid_column": null,
            "grid_gap": null,
            "grid_row": null,
            "grid_template_areas": null,
            "grid_template_columns": null,
            "grid_template_rows": null,
            "height": null,
            "justify_content": null,
            "justify_items": null,
            "left": null,
            "margin": null,
            "max_height": null,
            "max_width": null,
            "min_height": null,
            "min_width": null,
            "object_fit": null,
            "object_position": null,
            "order": null,
            "overflow": null,
            "overflow_x": null,
            "overflow_y": null,
            "padding": null,
            "right": null,
            "top": null,
            "visibility": null,
            "width": null
          }
        },
        "33b0c6f9058944afac25a61c1f300c3d": {
          "model_module": "@jupyter-widgets/controls",
          "model_name": "DescriptionStyleModel",
          "model_module_version": "1.5.0",
          "state": {
            "_model_module": "@jupyter-widgets/controls",
            "_model_module_version": "1.5.0",
            "_model_name": "DescriptionStyleModel",
            "_view_count": null,
            "_view_module": "@jupyter-widgets/base",
            "_view_module_version": "1.2.0",
            "_view_name": "StyleView",
            "description_width": ""
          }
        }
      }
    }
  },
  "cells": [
    {
      "cell_type": "code",
      "execution_count": null,
      "metadata": {
        "colab": {
          "base_uri": "https://localhost:8080/"
        },
        "id": "5-XZmIQijYZO",
        "outputId": "dde84ae5-078a-4e90-a0d4-20407a64075f"
      },
      "outputs": [
        {
          "output_type": "stream",
          "name": "stdout",
          "text": [
            "Collecting gymnasium\n",
            "  Downloading gymnasium-0.29.1-py3-none-any.whl (953 kB)\n",
            "\u001b[2K     \u001b[90m━━━━━━━━━━━━━━━━━━━━━━━━━━━━━━━━━━━━━━━━\u001b[0m \u001b[32m953.9/953.9 kB\u001b[0m \u001b[31m8.8 MB/s\u001b[0m eta \u001b[36m0:00:00\u001b[0m\n",
            "\u001b[?25hRequirement already satisfied: numpy>=1.21.0 in /usr/local/lib/python3.10/dist-packages (from gymnasium) (1.23.5)\n",
            "Requirement already satisfied: cloudpickle>=1.2.0 in /usr/local/lib/python3.10/dist-packages (from gymnasium) (2.2.1)\n",
            "Requirement already satisfied: typing-extensions>=4.3.0 in /usr/local/lib/python3.10/dist-packages (from gymnasium) (4.5.0)\n",
            "Collecting farama-notifications>=0.0.1 (from gymnasium)\n",
            "  Downloading Farama_Notifications-0.0.4-py3-none-any.whl (2.5 kB)\n",
            "Installing collected packages: farama-notifications, gymnasium\n",
            "Successfully installed farama-notifications-0.0.4 gymnasium-0.29.1\n",
            "Collecting d3rlpy\n",
            "  Downloading d3rlpy-2.2.0-py3-none-any.whl (166 kB)\n",
            "\u001b[2K     \u001b[90m━━━━━━━━━━━━━━━━━━━━━━━━━━━━━━━━━━━━━━━━\u001b[0m \u001b[32m166.3/166.3 kB\u001b[0m \u001b[31m3.7 MB/s\u001b[0m eta \u001b[36m0:00:00\u001b[0m\n",
            "\u001b[?25hRequirement already satisfied: torch>=2.0.0 in /usr/local/lib/python3.10/dist-packages (from d3rlpy) (2.1.0+cu118)\n",
            "Requirement already satisfied: tqdm in /usr/local/lib/python3.10/dist-packages (from d3rlpy) (4.66.1)\n",
            "Requirement already satisfied: h5py in /usr/local/lib/python3.10/dist-packages (from d3rlpy) (3.9.0)\n",
            "Collecting gym>=0.26.0 (from d3rlpy)\n",
            "  Downloading gym-0.26.2.tar.gz (721 kB)\n",
            "\u001b[2K     \u001b[90m━━━━━━━━━━━━━━━━━━━━━━━━━━━━━━━━━━━━━━━━\u001b[0m \u001b[32m721.7/721.7 kB\u001b[0m \u001b[31m30.6 MB/s\u001b[0m eta \u001b[36m0:00:00\u001b[0m\n",
            "\u001b[?25h  Installing build dependencies ... \u001b[?25l\u001b[?25hdone\n",
            "  Getting requirements to build wheel ... \u001b[?25l\u001b[?25hdone\n",
            "  Preparing metadata (pyproject.toml) ... \u001b[?25l\u001b[?25hdone\n",
            "Requirement already satisfied: click in /usr/local/lib/python3.10/dist-packages (from d3rlpy) (8.1.7)\n",
            "Requirement already satisfied: typing-extensions in /usr/local/lib/python3.10/dist-packages (from d3rlpy) (4.5.0)\n",
            "Collecting structlog (from d3rlpy)\n",
            "  Downloading structlog-23.2.0-py3-none-any.whl (62 kB)\n",
            "\u001b[2K     \u001b[90m━━━━━━━━━━━━━━━━━━━━━━━━━━━━━━━━━━━━━━━━\u001b[0m \u001b[32m62.9/62.9 kB\u001b[0m \u001b[31m5.8 MB/s\u001b[0m eta \u001b[36m0:00:00\u001b[0m\n",
            "\u001b[?25hCollecting colorama (from d3rlpy)\n",
            "  Downloading colorama-0.4.6-py2.py3-none-any.whl (25 kB)\n",
            "Collecting dataclasses-json (from d3rlpy)\n",
            "  Downloading dataclasses_json-0.6.2-py3-none-any.whl (28 kB)\n",
            "Requirement already satisfied: gymnasium in /usr/local/lib/python3.10/dist-packages (from d3rlpy) (0.29.1)\n",
            "Requirement already satisfied: numpy>=1.18.0 in /usr/local/lib/python3.10/dist-packages (from gym>=0.26.0->d3rlpy) (1.23.5)\n",
            "Requirement already satisfied: cloudpickle>=1.2.0 in /usr/local/lib/python3.10/dist-packages (from gym>=0.26.0->d3rlpy) (2.2.1)\n",
            "Requirement already satisfied: gym-notices>=0.0.4 in /usr/local/lib/python3.10/dist-packages (from gym>=0.26.0->d3rlpy) (0.0.8)\n",
            "Requirement already satisfied: filelock in /usr/local/lib/python3.10/dist-packages (from torch>=2.0.0->d3rlpy) (3.13.1)\n",
            "Requirement already satisfied: sympy in /usr/local/lib/python3.10/dist-packages (from torch>=2.0.0->d3rlpy) (1.12)\n",
            "Requirement already satisfied: networkx in /usr/local/lib/python3.10/dist-packages (from torch>=2.0.0->d3rlpy) (3.2.1)\n",
            "Requirement already satisfied: jinja2 in /usr/local/lib/python3.10/dist-packages (from torch>=2.0.0->d3rlpy) (3.1.2)\n",
            "Requirement already satisfied: fsspec in /usr/local/lib/python3.10/dist-packages (from torch>=2.0.0->d3rlpy) (2023.6.0)\n",
            "Requirement already satisfied: triton==2.1.0 in /usr/local/lib/python3.10/dist-packages (from torch>=2.0.0->d3rlpy) (2.1.0)\n",
            "Collecting marshmallow<4.0.0,>=3.18.0 (from dataclasses-json->d3rlpy)\n",
            "  Downloading marshmallow-3.20.1-py3-none-any.whl (49 kB)\n",
            "\u001b[2K     \u001b[90m━━━━━━━━━━━━━━━━━━━━━━━━━━━━━━━━━━━━━━━━\u001b[0m \u001b[32m49.4/49.4 kB\u001b[0m \u001b[31m4.7 MB/s\u001b[0m eta \u001b[36m0:00:00\u001b[0m\n",
            "\u001b[?25hCollecting typing-inspect<1,>=0.4.0 (from dataclasses-json->d3rlpy)\n",
            "  Downloading typing_inspect-0.9.0-py3-none-any.whl (8.8 kB)\n",
            "Requirement already satisfied: farama-notifications>=0.0.1 in /usr/local/lib/python3.10/dist-packages (from gymnasium->d3rlpy) (0.0.4)\n",
            "Requirement already satisfied: packaging>=17.0 in /usr/local/lib/python3.10/dist-packages (from marshmallow<4.0.0,>=3.18.0->dataclasses-json->d3rlpy) (23.2)\n",
            "Collecting mypy-extensions>=0.3.0 (from typing-inspect<1,>=0.4.0->dataclasses-json->d3rlpy)\n",
            "  Downloading mypy_extensions-1.0.0-py3-none-any.whl (4.7 kB)\n",
            "Requirement already satisfied: MarkupSafe>=2.0 in /usr/local/lib/python3.10/dist-packages (from jinja2->torch>=2.0.0->d3rlpy) (2.1.3)\n",
            "Requirement already satisfied: mpmath>=0.19 in /usr/local/lib/python3.10/dist-packages (from sympy->torch>=2.0.0->d3rlpy) (1.3.0)\n",
            "Building wheels for collected packages: gym\n",
            "  Building wheel for gym (pyproject.toml) ... \u001b[?25l\u001b[?25hdone\n",
            "  Created wheel for gym: filename=gym-0.26.2-py3-none-any.whl size=827619 sha256=e7f47a2f501d0902555b621edecdf9850993b21c9d495ab4dd362cb862ca504f\n",
            "  Stored in directory: /root/.cache/pip/wheels/b9/22/6d/3e7b32d98451b4cd9d12417052affbeeeea012955d437da1da\n",
            "Successfully built gym\n",
            "Installing collected packages: structlog, mypy-extensions, marshmallow, gym, colorama, typing-inspect, dataclasses-json, d3rlpy\n",
            "  Attempting uninstall: gym\n",
            "    Found existing installation: gym 0.25.2\n",
            "    Uninstalling gym-0.25.2:\n",
            "      Successfully uninstalled gym-0.25.2\n",
            "\u001b[31mERROR: pip's dependency resolver does not currently take into account all the packages that are installed. This behaviour is the source of the following dependency conflicts.\n",
            "dopamine-rl 4.0.6 requires gym<=0.25.2, but you have gym 0.26.2 which is incompatible.\u001b[0m\u001b[31m\n",
            "\u001b[0mSuccessfully installed colorama-0.4.6 d3rlpy-2.2.0 dataclasses-json-0.6.2 gym-0.26.2 marshmallow-3.20.1 mypy-extensions-1.0.0 structlog-23.2.0 typing-inspect-0.9.0\n"
          ]
        }
      ],
      "source": [
        "!pip install gymnasium\n",
        "!pip install d3rlpy"
      ]
    },
    {
      "cell_type": "code",
      "source": [
        "import json\n",
        "import dataclasses\n",
        "import gymnasium as gym\n",
        "import numpy as np\n",
        "import d3rlpy\n",
        "import pandas as pd\n",
        "import torch\n",
        "import torch.nn as nn"
      ],
      "metadata": {
        "id": "cYV3jRnMB0hu"
      },
      "execution_count": null,
      "outputs": []
    },
    {
      "cell_type": "code",
      "source": [
        "# utilities\n",
        "def sigmoid(x):\n",
        "    return 1 / (1 + np.exp(-x))\n",
        "\n",
        "def gaussian(x, mu, sig):\n",
        "    return np.exp(-np.power(x - mu, 2.) / (2 * np.power(sig, 2.)))\n",
        "\n",
        "# visualization\n",
        "#import matplotlib.pyplot as plt\n",
        "#%matplotlib inline\n",
        "\n",
        "#plt.figure(figsize=(12,8))\n",
        "#xspace = np.linspace(0, 10, 100)\n",
        "#yspace = np.linspace(0, 10, 100)\n",
        "#plt.xlabel('xxx')\n",
        "#plt.ylabel('yyy')\n",
        "#plt.plot(xspace, yspace)"
      ],
      "metadata": {
        "id": "9DgwJmejkxSE"
      },
      "execution_count": null,
      "outputs": []
    },
    {
      "cell_type": "markdown",
      "source": [
        "Visualize it."
      ],
      "metadata": {
        "id": "WWLSSEnwk3a9"
      }
    },
    {
      "cell_type": "code",
      "source": [
        "preamble = 'drive/MyDrive/data'\n",
        "datafile = 'sample.json'\n",
        "\n",
        "print(datafile)\n",
        "\n",
        "#df1 = pd.read_json(preamble + '/' + datafile)\n",
        "\n",
        "#print(df1.index)\n",
        "#print(df1.columns)\n",
        "#print(df1.info)\n",
        "\n",
        "#ob_data = df1['observations']\n",
        "\n",
        "#print(ob_data.info)\n",
        "\n",
        "#ob_array = ob_data.to_numpy()\n",
        "#print(ob_array[1])\n",
        "\n",
        "f = open(preamble + '/' + datafile)\n",
        "\n",
        "d = json.load(f)\n",
        "\n",
        "f.close()\n",
        "\n",
        "print(d.keys())\n",
        "\n",
        "#for i in d['bandwidth_predictions']:\n",
        "#    print(i)\n",
        "\n",
        "bwe_data = np.array(d['bandwidth_predictions'])\n",
        "\n",
        "print(bwe_data)\n",
        "print(bwe_data.shape)\n",
        "\n",
        "#for j in d['observations']:\n",
        "#  print(j)\n",
        "\n",
        "ob_data = np.array(d['observations'])\n",
        "print(ob_data)\n",
        "\n",
        "print(ob_data[:,2])\n",
        "\n",
        "#kk = np.array([1,2,3,4,5,6])\n",
        "\n",
        "#ss = kk.reshape((2,3))\n",
        "\n",
        "#print(ss)\n",
        "\n",
        "#mm = ss.reshape((6,))\n",
        "#print(mm)"
      ],
      "metadata": {
        "colab": {
          "base_uri": "https://localhost:8080/"
        },
        "id": "ICqMM8KWBVW6",
        "outputId": "b2952ca0-4d12-4f5a-e7f3-63288ab6b6d8"
      },
      "execution_count": null,
      "outputs": [
        {
          "output_type": "stream",
          "name": "stdout",
          "text": [
            "sample.json\n",
            "dict_keys(['policy_id', 'observations', 'bandwidth_predictions', 'video_quality', 'audio_quality'])\n",
            "[  20000.   20000.   20000. ... 7876328. 7873648. 7856528.]\n",
            "(3642,)\n",
            "[[  73600.               0.               0.         ...       0.\n",
            "        0.               0.        ]\n",
            " [  79866.66666667   58533.33333333   15066.66666667 ...       0.\n",
            "        0.               0.        ]\n",
            " [  79866.66666667   59600.           34000.         ...       0.\n",
            "        0.               0.        ]\n",
            " ...\n",
            " [1219200.         2152000.         1771733.33333333 ...       0.\n",
            "        0.               0.        ]\n",
            " [  82400.         1219600.         2130000.         ...       0.\n",
            "        0.               0.        ]\n",
            " [  62666.66666667   60800.         1219200.         ...       0.\n",
            "        0.               0.        ]]\n",
            "[      0.           15066.66666667   34000.         ... 1771733.33333333\n",
            " 2130000.         1219200.        ]\n"
          ]
        }
      ]
    },
    {
      "cell_type": "markdown",
      "source": [
        "The observation vector at a time step n encapsulates observed network statistics that characterize the state of the bottleneck link between the sender and receiver over the 5 most recent short term monitor intervals (MI) of 60ms and the 5 most recent long-term MIs of 600ms. Specifically, the observation vector tracks 15 different network features over 5 short and 5 long term MIs (15 features x (5 short term MIs + 5 long term MIs) = 150). The 15 features and their description are as follows. Features are based on packets received during the short and long term monitor intervals.\n",
        "\n",
        "    1. Receiving rate: rate at which the client receives data from the sender during a MI, unit: bps.\n",
        "    2. Number of received packets: total number of packets received in a MI, unit: packet.\n",
        "    3. Received bytes: total number of bytes received in a MI, unit: Bytes.\n",
        "    4. Queuing delay: average delay of packets received in a MI minus the minimum packet delay observed so far, unit: ms.\n",
        "    5. Delay: average delay of packets received in a MI minus a fixed base delay of 200ms, unit: ms.\n",
        "    6. Minimum seen delay: minimum packet delay observed so far, unit: ms.\n",
        "    7. Delay ratio: average delay of packets received in a MI divided by the minimum delay of packets received in the same MI, unit: ms/ms.\n",
        "    8. Delay average minimum difference: average delay of packets received in a MI minus the minimum delay of packets received in the same MI, unit: ms.\n",
        "    9. Packet interarrival time: mean interarrival time of packets received in a MI, unit: ms.\n",
        "    10. Packet jitter: standard deviation of interarrival time of packets received in a MI, unit: ms.\n",
        "    11. Packet loss ratio: probability of packet loss in a MI, unit: packet/packet.\n",
        "    12. Average number of lost packets: average number of lost packets given a loss occurs, unit: packet.\n",
        "    13. Video packets probability: proportion of video packets in the packets received in a MI, unit: packet/packet.\n",
        "    14. Audio packets probability: proportion of audio packets in the packets received in a MI, unit: packet/packet.\n",
        "    15. Probing packets probability: proportion of probing packets in the packets received in a MI, unit: packet/packet.\n",
        "\n",
        " The indices (zero-indexed) of features over the 5 short term MIs are {(feature number - 1) * 10, ., ., ., (feature number - 1) * 10 + 4}.\n",
        "\n",
        "The indices (zero-indexed) of features over the 5 long term MIs are {(feature number - 1) * 10 + 5, ., ., ., (feature number - 1) * 10 + 9}."
      ],
      "metadata": {
        "id": "jZmiq4-aheBt"
      }
    },
    {
      "cell_type": "code",
      "source": [
        "# enumeration for features numbering\n",
        "from enum import IntEnum\n",
        "\n",
        "class Feature(IntEnum):\n",
        "    RECV_RATE           = 1\n",
        "    RECV_PKT_AMOUNT     = 2\n",
        "    RECV_BYTEs          = 3\n",
        "    QUEUING_DELAY       = 4\n",
        "    DELAY               = 5\n",
        "    MIN_SEEN_DELAY      = 6\n",
        "    DELAY_RATIO         = 7\n",
        "    DELAY_MIN_DIFF      = 8\n",
        "    PKT_INTERARRIVAL    = 9\n",
        "    PKT_JITTER          = 10\n",
        "    PKT_LOSS_RATIO      = 11\n",
        "    PKT_AVE_LOSS        = 12\n",
        "    VIDEO_PKT_PROB      = 13\n",
        "    AUDIO_PKT_PROB      = 14\n",
        "    PROB_PKT_PROB       = 15"
      ],
      "metadata": {
        "id": "TWqU_LMZwwh6"
      },
      "execution_count": null,
      "outputs": []
    },
    {
      "cell_type": "code",
      "source": [
        "# reward function {0.6 * ln(4R + 1) -D - 10L} (inspired from R3Net)\n",
        "# R - receive rate at this time step, mb/s\n",
        "# D - queuing delay, ms (R3Net uses average Round Trip Time)\n",
        "# L - packet loss rate\n",
        "# receiving more packets is rewarded, delay and packet loss is penalized.\n",
        "\n",
        "def reward_r3net (feature_vec):\n",
        "  # use the 5 recent short MIs. (TODO: refinement)\n",
        "  receive_rate = np.sum(feature_vec[(Feature.RECV_RATE-1)*10:(Feature.RECV_RATE-1)*10+4])/5\n",
        "  queuing_delay = np.sum(feature_vec[(Feature.QUEUING_DELAY-1)*10:(Feature.QUEUING_DELAY-1)*10+4])/5\n",
        "  pkt_loss_rate = np.sum(feature_vec[(Feature.PKT_LOSS_RATIO-1)*10:(Feature.PKT_LOSS_RATIO-1)*10+4])/5\n",
        "\n",
        "  return (0.6 * np.log(4*receive_rate + 1) - queuing_delay/1000 - 10*pkt_loss_rate)\n"
      ],
      "metadata": {
        "id": "zsidsyeBsPyw"
      },
      "execution_count": null,
      "outputs": []
    },
    {
      "cell_type": "code",
      "source": [
        "# reward function (inspired from OnRL)\n",
        "# definition from OnRL follows\n",
        "# r_t = alpha * sum_{n=1}^{N} q_n\n",
        "#       - beta * sum_{n=1}^{N} l_n\n",
        "#       - eta * sum_{n=1}^{N} d_n\n",
        "#       - phi * sum_{n=1}^{N-1} |q_n - q_{n-1}|\n",
        "# N - number of RTP packets in a state\n",
        "# q_n - receive rate at this time step, mb/s\n",
        "# l_n - packet loss rate\n",
        "# d_n - delay, ms\n",
        "# |q_n - q_{n-1}| - receive rates difference between two steps. ()\n",
        "# alpha, beta, eta and phi are hyperparameters impacting training effectiveness.\n",
        "#\n",
        "# Here we uses the statistic of recent measure intervals (as the feature vectors)\n",
        "#\n",
        "\n",
        "def reward_onrl (feature_vec):\n",
        "  alpha = 50\n",
        "  beta = 50\n",
        "  eta = 10\n",
        "  phi = 20\n",
        "\n",
        "  receive_rate = np.sum(feature_vec[(Feature.RECV_RATE-1)*10:(Feature.RECV_RATE-1)*10+4])\n",
        "  queuing_delay = np.sum(feature_vec[(Feature.QUEUING_DELAY-1)*10:(Feature.QUEUING_DELAY-1)*10+4])\n",
        "  pkt_loss_rate = np.sum(feature_vec[(Feature.PKT_LOSS_RATIO-1)*10:(Feature.PKT_LOSS_RATIO-1)*10+4])\n",
        "\n",
        "  # incomplete - the last term is not in place. (TODO)\n",
        "  return (alpha * receive_rate - beta * pkt_loss_rate - eta * queuing_delay - 0)"
      ],
      "metadata": {
        "id": "6nFwF6gyW0QR"
      },
      "execution_count": null,
      "outputs": []
    },
    {
      "cell_type": "code",
      "source": [
        "# create a dataset\n",
        "\n",
        "# observations (same as the features vector)\n",
        "observations = ob_data\n",
        "\n",
        "# actions: bandwidth predictions in the dataset\n",
        "actions = bwe_data\n",
        "\n",
        "# rewards\n",
        "rewards = np.zeros(len(ob_data))\n",
        "for i, o in enumerate(list(ob_data)):\n",
        "  rewards[i] = reward_r3net(o)\n",
        "\n",
        "print(rewards.shape)\n",
        "print(rewards[0:5])\n",
        "\n",
        "# terminal flags\n",
        "terminals = np.random.randint(2, size=len(actions))\n",
        "\n",
        "# offline learning dataset\n",
        "dataset = d3rlpy.dataset.MDPDataset(\n",
        "    observations=observations,\n",
        "    actions=actions,\n",
        "    rewards=rewards,\n",
        "    terminals=terminals,\n",
        ")"
      ],
      "metadata": {
        "id": "6d6jWGqt81Hn",
        "colab": {
          "base_uri": "https://localhost:8080/"
        },
        "outputId": "14ec53a8-0a82-46dd-ae98-9b5b67f4b20d"
      },
      "execution_count": null,
      "outputs": [
        {
          "output_type": "stream",
          "name": "stdout",
          "text": [
            "(3642,)\n",
            "[  0.         -22.58180982 -22.57097435 -37.22612335 -37.22612335]\n",
            "2023-11-19 20:46:34 [info     ] Signatures have been automatically determined. action_signature=Signature(dtype=[dtype('float64')], shape=[(1,)]) observation_signature=Signature(dtype=[dtype('float64')], shape=[(150,)]) reward_signature=Signature(dtype=[dtype('float64')], shape=[(1,)])\n",
            "2023-11-19 20:46:34 [info     ] Action-space has been automatically determined. action_space=<ActionSpace.DISCRETE: 2>\n",
            "2023-11-19 20:46:34 [info     ] Action size has been automatically determined. action_size=7887689\n"
          ]
        }
      ]
    },
    {
      "cell_type": "markdown",
      "source": [
        "Create a discrete action space"
      ],
      "metadata": {
        "id": "SvaWnaFVmKib"
      }
    },
    {
      "cell_type": "code",
      "source": [
        "def make_bw_act_space(actions):\n",
        "  low = 0\n",
        "  #high = max(actions)\n",
        "  high = np.inf\n",
        "\n",
        "  shape = (len(actions),)\n",
        "  #print(f\"action shape {shape} \\n\")\n",
        "  bw_action_space = gym.spaces.Box(low, high, shape, dtype=np.float32)\n",
        "  return bw_action_space"
      ],
      "metadata": {
        "id": "C-5YOv_GmM20"
      },
      "execution_count": null,
      "outputs": []
    },
    {
      "cell_type": "markdown",
      "source": [
        "Create a continuous state space (a state is an observation feature)"
      ],
      "metadata": {
        "id": "6_gRF-zfmOz6"
      }
    },
    {
      "cell_type": "code",
      "source": [
        "def make_bw_obs_space(observations):\n",
        "    low = 0.0\n",
        "    high = np.inf\n",
        "    shape = (len(observations),len(observations[0]))\n",
        "    #print(f\"state space shape {shape} \\n\")\n",
        "    return gym.spaces.Box(low, high, shape, dtype=np.float32)"
      ],
      "metadata": {
        "id": "8pJm_Yggmd2o"
      },
      "execution_count": null,
      "outputs": []
    },
    {
      "cell_type": "markdown",
      "source": [
        "Create the environment for bandwidth estimation."
      ],
      "metadata": {
        "id": "0Yi_EcddmiNS"
      }
    },
    {
      "cell_type": "code",
      "source": [
        "class BandwidthEstimation(gym.Env):\n",
        "    def __init__(self, max_steps=1000):\n",
        "        self.actions = actions\n",
        "        self.observations = observations\n",
        "        self.action_space = make_bw_act_space(actions)\n",
        "        self.observation_space = make_bw_obs_space(observations)\n",
        "        self.seed=0\n",
        "        self.log = ''\n",
        "        self.max_steps = len(actions)\n",
        "        self.cur_step=0\n",
        "\n",
        "    def reset(self, seed=None):\n",
        "        super().reset(seed=seed)\n",
        "        self.steps_left = self.max_steps\n",
        "        self.cur_step = 0\n",
        "\n",
        "        return self.observations[self.cur_step]\n",
        "\n",
        "    def step(self, action):\n",
        "        # Do selected action (TODO)\n",
        "        cur_estimate = self.actions[self.cur_step]\n",
        "        cur_observation = self.observations[self.cur_step]\n",
        "        self.log += f'bwe: {cur_estimate}\\n'\n",
        "\n",
        "        # Calculate the reward (TODO)\n",
        "        reward = reward_r3net(cur_observation);\n",
        "\n",
        "        self.log += str(self.state) + '\\n'\n",
        "\n",
        "        self.steps_left -= 1\n",
        "        done = (self.steps_left <= 0)\n",
        "\n",
        "        # step count increases\n",
        "        self.cur_step += 1\n",
        "\n",
        "        return cur_observation, reward, done, {}\n",
        "\n",
        "    def close(self):\n",
        "        pass\n",
        "\n",
        "    def render(self, mode=None):\n",
        "        print(self.log)\n",
        "        self.log = ''"
      ],
      "metadata": {
        "id": "ioQYlH_-mlho"
      },
      "execution_count": null,
      "outputs": []
    },
    {
      "cell_type": "code",
      "source": [
        "# to be used for online learning (or evaluation)\n",
        "bwe_env = BandwidthEstimation()\n",
        "bwe_env.reset()"
      ],
      "metadata": {
        "id": "eKKHB_e1mqd_",
        "colab": {
          "base_uri": "https://localhost:8080/"
        },
        "outputId": "11ce630a-a228-499c-cb14-3f95b1e29dbb"
      },
      "execution_count": null,
      "outputs": [
        {
          "output_type": "stream",
          "name": "stdout",
          "text": [
            "action shape (3642,) \n",
            "\n",
            "state space shape (3642, 150) \n",
            "\n"
          ]
        },
        {
          "output_type": "execute_result",
          "data": {
            "text/plain": [
              "array([ 7.36000000e+04,  0.00000000e+00,  0.00000000e+00,  0.00000000e+00,\n",
              "        0.00000000e+00,  7.36000000e+03,  0.00000000e+00,  0.00000000e+00,\n",
              "        0.00000000e+00,  0.00000000e+00,  4.00000000e+00,  0.00000000e+00,\n",
              "        0.00000000e+00,  0.00000000e+00,  0.00000000e+00,  4.00000000e+00,\n",
              "        0.00000000e+00,  0.00000000e+00,  0.00000000e+00,  0.00000000e+00,\n",
              "        5.52000000e+02,  0.00000000e+00,  0.00000000e+00,  0.00000000e+00,\n",
              "        0.00000000e+00,  5.52000000e+02,  0.00000000e+00,  0.00000000e+00,\n",
              "        0.00000000e+00,  0.00000000e+00,  1.50000000e+00,  0.00000000e+00,\n",
              "        0.00000000e+00,  0.00000000e+00,  0.00000000e+00,  1.50000000e+00,\n",
              "        0.00000000e+00,  0.00000000e+00,  0.00000000e+00,  0.00000000e+00,\n",
              "       -2.50000000e+00,  0.00000000e+00,  0.00000000e+00,  0.00000000e+00,\n",
              "        0.00000000e+00, -2.50000000e+00,  0.00000000e+00,  0.00000000e+00,\n",
              "        0.00000000e+00,  0.00000000e+00,  1.96000000e+02,  0.00000000e+00,\n",
              "        0.00000000e+00,  0.00000000e+00,  0.00000000e+00,  1.96000000e+02,\n",
              "        0.00000000e+00,  0.00000000e+00,  0.00000000e+00,  0.00000000e+00,\n",
              "        1.00765306e+00,  0.00000000e+00,  0.00000000e+00,  0.00000000e+00,\n",
              "        0.00000000e+00,  1.00765306e+00,  0.00000000e+00,  0.00000000e+00,\n",
              "        0.00000000e+00,  0.00000000e+00,  1.50000000e+00,  0.00000000e+00,\n",
              "        0.00000000e+00,  0.00000000e+00,  0.00000000e+00,  1.50000000e+00,\n",
              "        0.00000000e+00,  0.00000000e+00,  0.00000000e+00,  0.00000000e+00,\n",
              "        1.42500000e+01,  0.00000000e+00,  0.00000000e+00,  0.00000000e+00,\n",
              "        0.00000000e+00,  1.42500000e+01,  0.00000000e+00,  0.00000000e+00,\n",
              "        0.00000000e+00,  0.00000000e+00,  1.00591998e+01,  0.00000000e+00,\n",
              "        0.00000000e+00,  0.00000000e+00,  0.00000000e+00,  1.00591998e+01,\n",
              "        0.00000000e+00,  0.00000000e+00,  0.00000000e+00,  0.00000000e+00,\n",
              "        0.00000000e+00,  0.00000000e+00,  0.00000000e+00,  0.00000000e+00,\n",
              "        0.00000000e+00,  0.00000000e+00,  0.00000000e+00,  0.00000000e+00,\n",
              "        0.00000000e+00,  0.00000000e+00,  0.00000000e+00,  0.00000000e+00,\n",
              "        0.00000000e+00,  0.00000000e+00,  0.00000000e+00,  0.00000000e+00,\n",
              "        0.00000000e+00,  0.00000000e+00,  0.00000000e+00,  0.00000000e+00,\n",
              "        0.00000000e+00,  0.00000000e+00,  0.00000000e+00,  0.00000000e+00,\n",
              "        0.00000000e+00,  0.00000000e+00,  0.00000000e+00,  0.00000000e+00,\n",
              "        0.00000000e+00,  0.00000000e+00,  1.00000000e+00,  0.00000000e+00,\n",
              "        0.00000000e+00,  0.00000000e+00,  0.00000000e+00,  1.00000000e+00,\n",
              "        0.00000000e+00,  0.00000000e+00,  0.00000000e+00,  0.00000000e+00,\n",
              "        0.00000000e+00,  0.00000000e+00,  0.00000000e+00,  0.00000000e+00,\n",
              "        0.00000000e+00,  0.00000000e+00,  0.00000000e+00,  0.00000000e+00,\n",
              "        0.00000000e+00,  0.00000000e+00])"
            ]
          },
          "metadata": {},
          "execution_count": 17
        }
      ]
    },
    {
      "cell_type": "markdown",
      "source": [
        "We create a customized deep network for DRL."
      ],
      "metadata": {
        "id": "BjsW37wIPTw9"
      }
    },
    {
      "cell_type": "code",
      "source": [
        "## incomplete.  TODO\n",
        "#\n",
        "\n",
        "class LTSMEncoder(nn.Module):\n",
        "    def __init__(self, observation_shape, feature_size):\n",
        "        super().__init__()\n",
        "        self.feature_size = feature_size\n",
        "        self.fc1 = nn.Linear(observation_shape[0], feature_size)\n",
        "        self.fc2 = nn.Linear(feature_size, feature_size)\n",
        "\n",
        "    def forward(self, x):\n",
        "        h = torch.relu(self.fc1(x))\n",
        "        h = torch.relu(self.fc2(h))\n",
        "        return h\n",
        "\n",
        "@dataclasses.dataclass()\n",
        "class LTSMEncoderFactory(d3rlpy.models.EncoderFactory):\n",
        "    feature_size: int\n",
        "\n",
        "    def create(self, observation_shape):\n",
        "        return LTSMEncoder(observation_shape, self.feature_size)\n",
        "\n",
        "    @staticmethod\n",
        "    def get_type() -> str:\n",
        "        return \"ltsm\""
      ],
      "metadata": {
        "id": "HSH-E3FzPbFw"
      },
      "execution_count": null,
      "outputs": []
    },
    {
      "cell_type": "markdown",
      "source": [
        "To test this environment, we use d3rlpy library to build a DQN agent that uses a Q-network."
      ],
      "metadata": {
        "id": "_qnWONQboO88"
      }
    },
    {
      "cell_type": "markdown",
      "source": [
        "Option 1: Create a DQN model."
      ],
      "metadata": {
        "id": "SD0d0RZ8v9Al"
      }
    },
    {
      "cell_type": "code",
      "source": [
        "# encoder factory\n",
        "encoder = d3rlpy.models.VectorEncoderFactory(\n",
        "    hidden_units=[64, 32],\n",
        "    activation='tanh',\n",
        ")\n",
        "\n",
        "\n",
        "# setup algorithm\n",
        "dqn = d3rlpy.algos.DQNConfig(\n",
        "    batch_size=32,\n",
        "    learning_rate=2.5e-4,\n",
        "    target_update_interval=100,\n",
        "    encoder_factory = encoder).create(device='cpu:1')\n",
        "\n",
        "# start offline training\n",
        "dqn.fit(\n",
        "   dataset,\n",
        "   n_steps=1000,\n",
        "   n_steps_per_epoch=10000,\n",
        "   evaluators={\n",
        "       \"environment\": d3rlpy.metrics.EnvironmentEvaluator(bwe_env),\n",
        "   },\n",
        ")"
      ],
      "metadata": {
        "colab": {
          "base_uri": "https://localhost:8080/"
        },
        "id": "Z4tFbjN1vuzA",
        "outputId": "34527b4b-9e77-41a3-9218-54f677fe3277"
      },
      "execution_count": null,
      "outputs": [
        {
          "output_type": "stream",
          "name": "stdout",
          "text": [
            "2023-11-19 20:16:28 [info     ] dataset info                   dataset_info=DatasetInfo(observation_signature=Signature(dtype=[dtype('float64')], shape=[(150,)]), action_signature=Signature(dtype=[dtype('float64')], shape=[(1,)]), reward_signature=Signature(dtype=[dtype('float64')], shape=[(1,)]), action_space=<ActionSpace.DISCRETE: 2>, action_size=7887689)\n",
            "2023-11-19 20:16:28 [info     ] Directory is created at d3rlpy_logs/DQN_20231119201628\n",
            "2023-11-19 20:16:28 [debug    ] Building models...\n",
            "2023-11-19 20:16:41 [debug    ] Models have been built.\n",
            "2023-11-19 20:16:41 [info     ] Parameters                     params={'observation_shape': [150], 'action_size': 7887689, 'config': {'type': 'dqn', 'params': {'batch_size': 32, 'gamma': 0.99, 'observation_scaler': {'type': 'none', 'params': {}}, 'action_scaler': {'type': 'none', 'params': {}}, 'reward_scaler': {'type': 'none', 'params': {}}, 'learning_rate': 0.00025, 'optim_factory': {'type': 'adam', 'params': {'betas': [0.9, 0.999], 'eps': 1e-08, 'weight_decay': 0, 'amsgrad': False}}, 'encoder_factory': {'type': 'vector', 'params': {'hidden_units': [64, 32], 'activation': 'tanh', 'use_batch_norm': False, 'dropout_rate': None, 'exclude_last_activation': False}}, 'q_func_factory': {'type': 'mean', 'params': {'share_encoder': False}}, 'n_critics': 1, 'target_update_interval': 100}}}\n"
          ]
        },
        {
          "output_type": "execute_result",
          "data": {
            "text/plain": [
              "[]"
            ]
          },
          "metadata": {},
          "execution_count": 19
        }
      ]
    },
    {
      "cell_type": "markdown",
      "source": [
        "Option 2: Create a Conservative Q-learning model."
      ],
      "metadata": {
        "id": "jtYA_saCAAs7"
      }
    },
    {
      "cell_type": "code",
      "source": [
        "# encoder factory\n",
        "actor_encoder = d3rlpy.models.VectorEncoderFactory(\n",
        "    hidden_units=[64, 32],\n",
        "    activation='tanh',\n",
        ")\n",
        "\n",
        "critic_encoder = d3rlpy.models.VectorEncoderFactory(\n",
        "    hidden_units=[64, 32],\n",
        "    activation='tanh',\n",
        ")\n",
        "\n",
        "## configuration for a Conservative Q-lerning model.\n",
        "cql_conf = d3rlpy.algos.DiscreteCQLConfig(\n",
        "    batch_size=32,\n",
        "    gamma=0.99,\n",
        "    observation_scaler=None,\n",
        "    action_scaler=None,\n",
        "    reward_scaler=None,\n",
        "    learning_rate=6.25e-05,\n",
        "    encoder_factory=actor_encoder,\n",
        "    n_critics=1,\n",
        "    target_update_interval=8000,\n",
        "    alpha=1.0)\n",
        "\n",
        "cql = d3rlpy.algos.DiscreteCQL(cql_conf, device='cpu:1')\n",
        "\n",
        "##\n",
        "# offline training\n",
        "cql.fit(\n",
        "    dataset,\n",
        "    n_steps=10000,\n",
        "    n_steps_per_epoch=1000,\n",
        "\n",
        "    evaluators={\n",
        "        'environment': d3rlpy.metrics.EnvironmentEvaluator(bwe_env),\n",
        "    },\n",
        ")"
      ],
      "metadata": {
        "id": "RJtAcXCEAAH6",
        "colab": {
          "base_uri": "https://localhost:8080/",
          "height": 184,
          "referenced_widgets": [
            "c95822b873ad4dd3bb5b9cff3ab4bfac",
            "ce3f07ad7d35428fbafa5077cc93fad9",
            "1cdcfa138e6d4bfe85670dee5ee54e4f",
            "2a061854069a41999f4f1faba89e67e5",
            "9de378b966fb4092aae54cd614c5a397",
            "33cb255f4ddc4d7b84f298868812329e",
            "bdb9ce5298d345e08fbef46766a810f2",
            "fc784f8710cc4d14923f2de4bdb42d2d",
            "97819d52c33c4bf986ce8bc56c6e3582",
            "63bde608cc1d4f48bda065057170540f",
            "33b0c6f9058944afac25a61c1f300c3d"
          ]
        },
        "outputId": "5310cf60-29e1-4abe-821b-1c00d05351bc"
      },
      "execution_count": null,
      "outputs": [
        {
          "output_type": "stream",
          "name": "stdout",
          "text": [
            "2023-11-19 14:34:33 [info     ] dataset info                   dataset_info=DatasetInfo(observation_signature=Signature(dtype=[dtype('float64')], shape=[(150,)]), action_signature=Signature(dtype=[dtype('float32')], shape=[(1,)]), reward_signature=Signature(dtype=[dtype('float64')], shape=[(1,)]), action_space=<ActionSpace.DISCRETE: 2>, action_size=7887689)\n",
            "2023-11-19 14:34:33 [info     ] Directory is created at d3rlpy_logs/DiscreteCQL_20231119143433\n",
            "2023-11-19 14:34:33 [debug    ] Building models...\n",
            "2023-11-19 14:34:43 [debug    ] Models have been built.\n",
            "2023-11-19 14:34:43 [info     ] Parameters                     params={'observation_shape': [150], 'action_size': 7887689, 'config': {'type': 'discrete_cql', 'params': {'batch_size': 32, 'gamma': 0.99, 'observation_scaler': {'type': 'none', 'params': {}}, 'action_scaler': {'type': 'none', 'params': {}}, 'reward_scaler': {'type': 'none', 'params': {}}, 'learning_rate': 6.25e-05, 'optim_factory': {'type': 'adam', 'params': {'betas': [0.9, 0.999], 'eps': 1e-08, 'weight_decay': 0, 'amsgrad': False}}, 'encoder_factory': {'type': 'vector', 'params': {'hidden_units': [64, 32], 'activation': 'tanh', 'use_batch_norm': False, 'dropout_rate': None, 'exclude_last_activation': False}}, 'q_func_factory': {'type': 'mean', 'params': {'share_encoder': False}}, 'n_critics': 1, 'target_update_interval': 8000, 'alpha': 1.0}}}\n"
          ]
        },
        {
          "output_type": "display_data",
          "data": {
            "text/plain": [
              "Epoch 1/10:   0%|          | 0/1000 [00:00<?, ?it/s]"
            ],
            "application/vnd.jupyter.widget-view+json": {
              "version_major": 2,
              "version_minor": 0,
              "model_id": "c95822b873ad4dd3bb5b9cff3ab4bfac"
            }
          },
          "metadata": {}
        }
      ]
    },
    {
      "cell_type": "markdown",
      "source": [
        "Transfer to DQN for online learning"
      ],
      "metadata": {
        "id": "7B48xEQDA5sF"
      }
    },
    {
      "cell_type": "code",
      "source": [
        "# Incomplete. TODO\n",
        "#\n",
        "#\n",
        "\n",
        "## transfer to online learning using DQN\n",
        "\n",
        "# setup experience replay buffer\n",
        "buffer = d3rlpy.dataset.create_fifo_replay_buffer(limit=100000, env=bwe_env)\n",
        "\n",
        "# setup exploration strategy if necessary\n",
        "explorer = d3rlpy.algos.ConstantEpsilonGreedy(0.1)\n",
        "\n",
        "# transfer to a new DQN\n",
        "new_dqn = d3rlpy.algos.DQNConfig().create()\n",
        "new_dqn.build_with_env(bwe_env)\n",
        "new_dqn.copy_q_function_from(cql)\n",
        "\n",
        "# start finetuning\n",
        "new_dqn.fit_online(bwe_env, buffer, explorer, n_steps=100000)"
      ],
      "metadata": {
        "id": "YlWig0j-A8h_"
      },
      "execution_count": null,
      "outputs": []
    }
  ]
}